{
 "cells": [
  {
   "cell_type": "code",
   "execution_count": 1,
   "metadata": {},
   "outputs": [
    {
     "name": "stdout",
     "output_type": "stream",
     "text": [
      "[{'id': 9, 'created_at': 1297555200, 'name': 'Puzzle', 'slug': 'puzzle', 'updated_at': 1323216000, 'url': 'https://www.igdb.com/genres/puzzle'}, {'id': 11, 'created_at': 1297555200, 'name': 'Real Time Strategy (RTS)', 'slug': 'real-time-strategy-rts', 'updated_at': 1323216000, 'url': 'https://www.igdb.com/genres/real-time-strategy-rts'}, {'id': 8, 'created_at': 1297555200, 'name': 'Platform', 'slug': 'platform', 'updated_at': 1323216000, 'url': 'https://www.igdb.com/genres/platform'}]\n"
     ]
    }
   ],
   "source": [
    "import requests\n",
    "import json\n",
    "\n",
    "authenticate = {'user-key':'998034441db293bdd16e29d625b9b40d'}\n",
    "fields = 'fields *; where id = (8,9,11);'\n",
    "\n",
    "r = requests.post('https://api-v3.igdb.com/genres/',headers=authenticate,data = fields)\n",
    "if r.ok:\n",
    "    print(r.json())\n",
    "else:\n",
    "    print(r.status_code)"
   ]
  },
  {
   "cell_type": "code",
   "execution_count": 5,
   "metadata": {},
   "outputs": [],
   "source": [
    "import pandas as pd\n",
    "import requests\n",
    "import json\n",
    "\n",
    "import warnings\n",
    "warnings.filterwarnings('ignore')"
   ]
  },
  {
   "cell_type": "code",
   "execution_count": 6,
   "metadata": {},
   "outputs": [
    {
     "data": {
      "text/plain": [
       "[    Image  Rank                        Game Title               Publisher  \\\n",
       " 0     NaN     1                 League of Legends              Riot Games   \n",
       " 1     NaN     2                      Apex Legends         Electronic Arts   \n",
       " 2     NaN     3  Counter-Strike: Global Offensive       Valve Corporation   \n",
       " 3     NaN     4                         Minecraft                  Mojang   \n",
       " 4     NaN     5   Hearthstone: Heroes of Warcraft  Blizzard Entertainment   \n",
       " 5     NaN     6                          Fortnite              Epic Games   \n",
       " 6     NaN     7   Tom Clancy's Rainbow Six: Siege   Ubisoft Entertainment   \n",
       " 7     NaN     8                         Overwatch  Blizzard Entertainment   \n",
       " 8     NaN     9                            Dota 2       Valve Corporation   \n",
       " 9     NaN    10     PLAYERUNKNOWN'S BATTLEGROUNDS         Bluehole Studio   \n",
       " 10    NaN    11                 World of Warcraft  Blizzard Entertainment   \n",
       " 11    NaN    12                Grand Theft Auto V          Rockstar Games   \n",
       " 12    NaN    13                    World Of Tanks           Wargaming.net   \n",
       " 13    NaN    14                       Garry's Mod       Valve Corporation   \n",
       " 14    NaN    15                     Rocket League                 Psyonix   \n",
       " 15    NaN    16                            Arma 3     Bohemia Interactive   \n",
       " 16    NaN    17                              Rust       Facepunch Studios   \n",
       " 17    NaN    18                       War Thunder    Gaijin Entertainment   \n",
       " 18    NaN    19                     Slime Rancher             Monomi Park   \n",
       " 19    NaN    20       The Elder Scrolls V: Skyrim      Bethesda Softworks   \n",
       " \n",
       "    Change  \n",
       " 0       -  \n",
       " 1       -  \n",
       " 2       -  \n",
       " 3       -  \n",
       " 4       1  \n",
       " 5       1  \n",
       " 6       -  \n",
       " 7       1  \n",
       " 8       1  \n",
       " 9       2  \n",
       " 10      -  \n",
       " 11      1  \n",
       " 12      1  \n",
       " 13      -  \n",
       " 14      -  \n",
       " 15      -  \n",
       " 16      -  \n",
       " 17      1  \n",
       " 18   New!  \n",
       " 19      1  ]"
      ]
     },
     "execution_count": 6,
     "metadata": {},
     "output_type": "execute_result"
    }
   ],
   "source": [
    "top20_pc = 'https://newzoo.com/insights/rankings/top-20-core-pc-games/'\n",
    "top20_pc_data = pd.read_html(top20_pc)\n",
    "top20_pc_data"
   ]
  },
  {
   "cell_type": "code",
   "execution_count": 7,
   "metadata": {
    "scrolled": true
   },
   "outputs": [
    {
     "data": {
      "text/plain": [
       "[     0     1                                                  2  \\\n",
       " 0  NaN    GC  Charlie's Angels  Neko Entertainment/Ubisoft, ...   \n",
       " 1  NaN  XONE                      Fighter Within  Ubisoft, 2013   \n",
       " 2  NaN  X360              AMY  VectorCell/Lexis Numerique, 2012   \n",
       " 3  NaN  X360  Leisure Suit Larry: Box Office Bust  Team 17/F...   \n",
       " 4  NaN   PS3                         AMY  Lexis Numerique, 2012   \n",
       " 5  NaN    GC                 Batman: Dark Tomorrow  Kemco, 2003   \n",
       " 6  NaN  X360  Rogue Warrior  Rebellion/Bethesda Softworks, 2009   \n",
       " 7  NaN    DS                    Ping Pals  WayForward/THQ, 2004   \n",
       " 8  NaN   PS2            McFarlane's Evil Prophecy  Konami, 2004   \n",
       " 9  NaN   PS4  Tony Hawk's Pro Skater 5  Robomodo/Activision,...   \n",
       " 10 NaN  WIIU  Sonic Boom: Rise of Lyric  Big Red Button Ente...   \n",
       " 11 NaN    PC  American McGee Presents Bad Day LA  Enlight So...   \n",
       " 12 NaN  VITA  Call of Duty: Black Ops Declassified  Nihilist...   \n",
       " 13 NaN   PS4     Ghostbusters  FireForge Games/Activision, 2016   \n",
       " 14 NaN  X360                  Bomberman: Act Zero  Hudson, 2006   \n",
       " 15 NaN   PS3  Mobile Suit Gundam: Crossfire  Bec/Namco Banda...   \n",
       " 16 NaN  X360                    Fighters Uncaged  Ubisoft, 2010   \n",
       " 17 NaN  XBOX  Bruce Lee: Quest of the Dragon  Ronin Entertai...   \n",
       " 18 NaN  XBOX  MTV's Celebrity Deathmatch  Big Ape Production...   \n",
       " 19 NaN   PS2  Gravity Games Bike: Street. Vert. Dirt.  Midwa...   \n",
       " 20 NaN   PS2  MTV's Celebrity Deathmatch  Big Ape Production...   \n",
       " 21 NaN   PS2  Fight Club  Genuine Games/Sierra Entertainment...   \n",
       " 22 NaN   GBA  Dragon Ball Z: Taiketsu  Webfoot Technologies/...   \n",
       " 23 NaN   PSP     Dead or Alive Paradise  Team Ninja/Tecmo, 2010   \n",
       " 24 NaN   PS2  The Simpsons Skateboarding  The Code Monkeys/E...   \n",
       " 25 NaN   WII  Far Cry Vengeance  Ubisoft Montreal/Ubisoft, 2006   \n",
       " 26 NaN   PS2                   Army Men: Green Rogue  3DO, 2001   \n",
       " 27 NaN    PC  Aliens: Colonial Marines  Gearbox Software/Seg...   \n",
       " 28 NaN  X360              Hour of Victory  Nfusion/Midway, 2007   \n",
       " 29 NaN   PS2    The Shield: The Game  Point of View/Aspyr, 2007   \n",
       " 30 NaN  X360  Destroy All Humans! Path of the Furon  Sandbla...   \n",
       " 31 NaN   PS4                       Umbrella Corps  Capcom, 2016   \n",
       " 32 NaN  X360            Damnation  Blue Omega/Codemasters, 2009   \n",
       " 33 NaN  X360  Infernal: Hell's Vengeance  Metropolis Softwar...   \n",
       " 34 NaN   PS3            Damnation  Blue Omega/Codemasters, 2009   \n",
       " 35 NaN  X360          Vampire Rain  Artoon/AQ Interactive, 2007   \n",
       " 36 NaN   GBA  Star Wars Episode II: Attack of the Clones  Da...   \n",
       " 37 NaN  X360                        Quantum Theory  Tecmo, 2010   \n",
       " 38 NaN   WII  Ready 2 Rumble Revolution  10tacle Studios/Ata...   \n",
       " 39 NaN   PS2  Bad Boys: Miami Takedown  Blitz Games/Empire I...   \n",
       " 40 NaN   PS4  Godzilla  NATSUME ATARI Inc./Bandai Namco Game...   \n",
       " 41 NaN  X360  Thor: God of Thunder  Liquid Entertainment/Seg...   \n",
       " 42 NaN   PS2  Terminator 3: Rise of the Machines  Black Ops ...   \n",
       " 43 NaN  X360  Prison Break: The Conspiracy  ZootFly/Deep Sil...   \n",
       " 44 NaN   PS3  Thor: God of Thunder  Liquid Entertainment/Seg...   \n",
       " 45 NaN  X360  Dead Space Ignition  Sumo Digital/Electronic A...   \n",
       " 46 NaN  XBOX           Fight Club  Genuine Games/VU Games, 2004   \n",
       " 47 NaN   WII   Ju-on: The Grudge  FeelPlus/AQ Interactive, 2009   \n",
       " 48 NaN  X360  Raven Squad: Operation Hidden Dagger  Atomic M...   \n",
       " 49 NaN   PS2  Charlie and the Chocolate Factory  High Voltag...   \n",
       " \n",
       "                    3  \n",
       " 0   23.74%23 Reviews  \n",
       " 1   24.68%31 Reviews  \n",
       " 2   25.81%26 Reviews  \n",
       " 3   26.08%20 Reviews  \n",
       " 4   27.24%25 Reviews  \n",
       " 5   27.83%20 Reviews  \n",
       " 6   29.16%25 Reviews  \n",
       " 7   29.18%20 Reviews  \n",
       " 8   32.95%25 Reviews  \n",
       " 9   32.96%27 Reviews  \n",
       " 10  33.15%20 Reviews  \n",
       " 11  33.15%23 Reviews  \n",
       " 12  33.21%42 Reviews  \n",
       " 13  33.38%21 Reviews  \n",
       " 14  33.66%45 Reviews  \n",
       " 15  35.26%37 Reviews  \n",
       " 16  35.46%26 Reviews  \n",
       " 17  35.51%40 Reviews  \n",
       " 18  35.83%21 Reviews  \n",
       " 19  36.52%23 Reviews  \n",
       " 20  36.76%23 Reviews  \n",
       " 21  36.84%31 Reviews  \n",
       " 22  37.40%27 Reviews  \n",
       " 23  37.52%23 Reviews  \n",
       " 24  37.58%26 Reviews  \n",
       " 25  37.71%21 Reviews  \n",
       " 26  37.86%24 Reviews  \n",
       " 27  37.91%22 Reviews  \n",
       " 28  38.05%39 Reviews  \n",
       " 29  38.10%20 Reviews  \n",
       " 30  38.41%22 Reviews  \n",
       " 31  38.47%36 Reviews  \n",
       " 32  38.55%31 Reviews  \n",
       " 33  38.59%22 Reviews  \n",
       " 34  38.79%24 Reviews  \n",
       " 35  38.82%49 Reviews  \n",
       " 36  38.87%20 Reviews  \n",
       " 37  39.00%31 Reviews  \n",
       " 38  39.06%25 Reviews  \n",
       " 39  39.10%21 Reviews  \n",
       " 40  39.16%38 Reviews  \n",
       " 41  39.17%30 Reviews  \n",
       " 42  39.17%38 Reviews  \n",
       " 43  39.59%22 Reviews  \n",
       " 44  39.73%22 Reviews  \n",
       " 45  40.00%20 Reviews  \n",
       " 46  40.11%38 Reviews  \n",
       " 47  40.22%27 Reviews  \n",
       " 48  40.24%21 Reviews  \n",
       " 49  40.70%27 Reviews  ]"
      ]
     },
     "execution_count": 7,
     "metadata": {},
     "output_type": "execute_result"
    }
   ],
   "source": [
    "all_game_ranking = 'https://www.gamerankings.com/browse.html?sort=1'\n",
    "all_game_ranking_data = pd.read_html(all_game_ranking)\n",
    "all_game_ranking_data"
   ]
  },
  {
   "cell_type": "code",
   "execution_count": null,
   "metadata": {},
   "outputs": [],
   "source": []
  },
  {
   "cell_type": "code",
   "execution_count": null,
   "metadata": {},
   "outputs": [],
   "source": []
  },
  {
   "cell_type": "code",
   "execution_count": null,
   "metadata": {},
   "outputs": [],
   "source": []
  },
  {
   "cell_type": "code",
   "execution_count": null,
   "metadata": {},
   "outputs": [],
   "source": []
  },
  {
   "cell_type": "code",
   "execution_count": null,
   "metadata": {},
   "outputs": [],
   "source": []
  },
  {
   "cell_type": "code",
   "execution_count": null,
   "metadata": {},
   "outputs": [],
   "source": []
  },
  {
   "cell_type": "code",
   "execution_count": null,
   "metadata": {},
   "outputs": [],
   "source": []
  },
  {
   "cell_type": "code",
   "execution_count": null,
   "metadata": {},
   "outputs": [],
   "source": []
  },
  {
   "cell_type": "code",
   "execution_count": null,
   "metadata": {},
   "outputs": [],
   "source": []
  },
  {
   "cell_type": "code",
   "execution_count": null,
   "metadata": {},
   "outputs": [],
   "source": []
  }
 ],
 "metadata": {
  "kernelspec": {
   "display_name": "Python 3",
   "language": "python",
   "name": "python3"
  },
  "language_info": {
   "codemirror_mode": {
    "name": "ipython",
    "version": 3
   },
   "file_extension": ".py",
   "mimetype": "text/x-python",
   "name": "python",
   "nbconvert_exporter": "python",
   "pygments_lexer": "ipython3",
   "version": "3.6.6"
  }
 },
 "nbformat": 4,
 "nbformat_minor": 2
}
